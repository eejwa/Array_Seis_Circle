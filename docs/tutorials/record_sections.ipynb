{
 "cells": [
  {
   "cell_type": "markdown",
   "metadata": {},
   "source": [
    "# Plotting Record Sections Tutorial\n",
    "\n",
    "In notebook ./array_information.ipynb we saw how to use functions to extract information such as the epicentral distances of each station or the array geometry. In this notebook, you will use plotting functions to display the seismograms recorded at the stations in what is commonly called a \"record section\". A record section plots several seismograms on one figure often ordered by distance. By showing many seismograms on one figure, differences between them can more easily be seen which has been used as the foundation of many seismic studies. Often this is the first step to regional, data-based studies. \n",
    "\n",
    "There are two common ways to order the seismograms in a record section (both of which you will do here). The first is with distance and the other with the backazimuth. The backazimuth is the direction pointing from the recording instrument to the event which is recorded as an angle from North (like a bearing). \n",
    "\n",
    "The code allows you to plot the raw data (which holds useful information already) and align the seismograms given a slowness (inverse of velocity) value. This can be useful to identify waves which move over the array with a specific horizontal speed.\n",
    "\n",
    "Now onto the code!\n"
   ]
  },
  {
   "cell_type": "code",
   "execution_count": null,
   "metadata": {},
   "outputs": [],
   "source": [
    "import obspy\n",
    "import matplotlib.pyplot as plt\n",
    "from array_plotting import plotting"
   ]
  },
  {
   "cell_type": "code",
   "execution_count": null,
   "metadata": {},
   "outputs": [],
   "source": [
    "# path to data\n",
    "data_path = './data/19970525/*'\n",
    "\n",
    "# create obspy datastream \n",
    "st = obspy.read(data_path)\n",
    "\n",
    "# we will use the first data in the stream as an example\n",
    "# of what should be populated in the SAC file \n",
    "example_trace = st[0]"
   ]
  },
  {
   "cell_type": "code",
   "execution_count": null,
   "metadata": {},
   "outputs": [],
   "source": [
    "\n",
    "# Filter the data to make it look clearer\n",
    "st = st.filter(type='bandpass', freqmin=0.05, freqmax=0.5)"
   ]
  },
  {
   "cell_type": "code",
   "execution_count": null,
   "metadata": {},
   "outputs": [],
   "source": []
  },
  {
   "cell_type": "code",
   "execution_count": null,
   "metadata": {},
   "outputs": [],
   "source": []
  },
  {
   "cell_type": "markdown",
   "metadata": {},
   "source": []
  }
 ],
 "metadata": {
  "interpreter": {
   "hash": "4de4f0ccd9641f91405a7bb89b7ba9b0cb8adb66b3cdb75c4fca34752a486c65"
  },
  "kernelspec": {
   "display_name": "Python 3.9.12 ('Boots_Cluster')",
   "language": "python",
   "name": "python3"
  },
  "language_info": {
   "name": "python",
   "version": "3.9.12"
  },
  "orig_nbformat": 4
 },
 "nbformat": 4,
 "nbformat_minor": 2
}
